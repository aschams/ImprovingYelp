{
 "cells": [
  {
   "cell_type": "code",
   "execution_count": null,
   "metadata": {
    "_cell_guid": "b1076dfc-b9ad-4769-8c92-a6c4dae69d19",
    "_uuid": "8f2839f25d086af736a60e9eeb907d3b93b6e0e5"
   },
   "outputs": [],
   "source": [
    "# This Python 3 environment comes with many helpful analytics libraries installed\n",
    "# It is defined by the kaggle/python docker image: https://github.com/kaggle/docker-python\n",
    "# For example, here's several helpful packages to load in \n",
    "\n",
    "import numpy as np # linear algebra\n",
    "import pandas as pd # data processing, CSV file I/O (e.g. pd.read_csv)\n",
    "\n",
    "# Input data files are available in the \"../input/\" directory.\n",
    "# For example, running this (by clicking run or pressing Shift+Enter) will list the files in the input directory\n",
    "\n",
    "import os\n",
    "print(os.listdir(\"../input\"))\n",
    "\n",
    "# Any results you write to the current directory are saved as output."
   ]
  },
  {
   "cell_type": "code",
   "execution_count": null,
   "metadata": {
    "_cell_guid": "79c7e3d0-c299-4dcb-8224-4455121ee9b0",
    "_uuid": "d629ff2d2480ee46fbb7e2d37f6b5fab8052498a"
   },
   "outputs": [],
   "source": [
    "chunks = pd.read_json('../input/yelp_academic_dataset_review.json', chunksize = 5000, lines = True)\n",
    "businesses = pd.read_json('../input/yelp_academic_dataset_business.json', lines = True)"
   ]
  },
  {
   "cell_type": "code",
   "execution_count": null,
   "metadata": {
    "_uuid": "e55e7fc16ddd5569a7518903f4817cf61613b6d5",
    "scrolled": true
   },
   "outputs": [],
   "source": [
    "restaurants = businesses['categories'].str.contains('Restaurants')\n",
    "restaurants[restaurants.isna()] = False\n",
    "only_restaurants = businesses[restaurants]\n",
    "only_restaurants.head()\n",
    "most_restaurants_cities = only_restaurants['city'].value_counts()[:12].index\n",
    "mrc_restaurants = only_restaurants[only_restaurants['city'].isin(most_restaurants_cities)]\n",
    "only_restaurants['review_count'].describe()\n",
    "only_restaurants['city'].value_counts()[:12]"
   ]
  },
  {
   "cell_type": "code",
   "execution_count": null,
   "metadata": {
    "_uuid": "4ef8ca7e75cf60e0831a48e1efe94dd773e10da4"
   },
   "outputs": [],
   "source": [
    "data = pd.DataFrame()\n",
    "for c in chunks:\n",
    "    d = c.merge(mrc_restaurants, on = 'business_id')\n",
    "    data = data.append(d, ignore_index = True)"
   ]
  },
  {
   "cell_type": "code",
   "execution_count": null,
   "metadata": {
    "_uuid": "5e1bf2951fc79f85a05160aeac31356ca86a79a8"
   },
   "outputs": [],
   "source": [
    "mrc_restaurants.to_csv(\"Businesses.csv\")\n",
    "data.to_csv(\"restaurant_reviews.csv\")"
   ]
  },
  {
   "cell_type": "code",
   "execution_count": null,
   "metadata": {
    "_uuid": "9c1a8e91f4b3f8d4eb15accd2058ff3031d332cc"
   },
   "outputs": [],
   "source": []
  }
 ],
 "metadata": {
  "kernelspec": {
   "display_name": "Python 3",
   "language": "python",
   "name": "python3"
  },
  "language_info": {
   "codemirror_mode": {
    "name": "ipython",
    "version": 3
   },
   "file_extension": ".py",
   "mimetype": "text/x-python",
   "name": "python",
   "nbconvert_exporter": "python",
   "pygments_lexer": "ipython3",
   "version": "3.6.8"
  },
  "toc": {
   "base_numbering": 1,
   "nav_menu": {},
   "number_sections": true,
   "sideBar": true,
   "skip_h1_title": false,
   "title_cell": "Table of Contents",
   "title_sidebar": "Contents",
   "toc_cell": false,
   "toc_position": {},
   "toc_section_display": true,
   "toc_window_display": true
  }
 },
 "nbformat": 4,
 "nbformat_minor": 1
}
